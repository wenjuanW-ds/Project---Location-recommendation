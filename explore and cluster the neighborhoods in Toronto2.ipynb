{
    "nbformat_minor": 1, 
    "cells": [
        {
            "source": "# Explore and Cluster the neighborhoods in Toronto (2)", 
            "cell_type": "markdown", 
            "metadata": {
                "collapsed": true
            }
        }, 
        {
            "source": "### Import liabrary", 
            "cell_type": "markdown", 
            "metadata": {}
        }, 
        {
            "execution_count": 2, 
            "cell_type": "code", 
            "metadata": {}, 
            "outputs": [
                {
                    "output_type": "stream", 
                    "name": "stdout", 
                    "text": "Collecting geocoder\n  Downloading https://files.pythonhosted.org/packages/4f/6b/13166c909ad2f2d76b929a4227c952630ebaf0d729f6317eb09cbceccbab/geocoder-1.38.1-py2.py3-none-any.whl (98kB)\n\u001b[K    100% |\u2588\u2588\u2588\u2588\u2588\u2588\u2588\u2588\u2588\u2588\u2588\u2588\u2588\u2588\u2588\u2588\u2588\u2588\u2588\u2588\u2588\u2588\u2588\u2588\u2588\u2588\u2588\u2588\u2588\u2588\u2588\u2588| 102kB 4.2MB/s a 0:00:01\n\u001b[?25hRequirement not upgraded as not directly required: future in /opt/conda/envs/DSX-Python35/lib/python3.5/site-packages (from geocoder)\nRequirement not upgraded as not directly required: requests in /opt/conda/envs/DSX-Python35/lib/python3.5/site-packages (from geocoder)\nRequirement not upgraded as not directly required: click in /opt/conda/envs/DSX-Python35/lib/python3.5/site-packages (from geocoder)\nCollecting ratelim (from geocoder)\n  Downloading https://files.pythonhosted.org/packages/f2/98/7e6d147fd16a10a5f821db6e25f192265d6ecca3d82957a4fdd592cad49c/ratelim-0.1.6-py2.py3-none-any.whl\nRequirement not upgraded as not directly required: six in /opt/conda/envs/DSX-Python35/lib/python3.5/site-packages (from geocoder)\nRequirement not upgraded as not directly required: chardet<3.1.0,>=3.0.2 in /opt/conda/envs/DSX-Python35/lib/python3.5/site-packages (from requests->geocoder)\nRequirement not upgraded as not directly required: idna<2.7,>=2.5 in /opt/conda/envs/DSX-Python35/lib/python3.5/site-packages (from requests->geocoder)\nRequirement not upgraded as not directly required: urllib3<1.23,>=1.21.1 in /opt/conda/envs/DSX-Python35/lib/python3.5/site-packages (from requests->geocoder)\nRequirement not upgraded as not directly required: certifi>=2017.4.17 in /opt/conda/envs/DSX-Python35/lib/python3.5/site-packages (from requests->geocoder)\nRequirement not upgraded as not directly required: decorator in /opt/conda/envs/DSX-Python35/lib/python3.5/site-packages (from ratelim->geocoder)\nInstalling collected packages: ratelim, geocoder\nSuccessfully installed geocoder-1.38.1 ratelim-0.1.6\n"
                }
            ], 
            "source": "import pandas as pd\nimport numpy as np\n\n!pip install geocoder\nimport geocoder"
        }, 
        {
            "source": "Load table file notebook(1)", 
            "cell_type": "markdown", 
            "metadata": {}
        }, 
        {
            "execution_count": 4, 
            "cell_type": "code", 
            "metadata": {}, 
            "outputs": [
                {
                    "execution_count": 4, 
                    "metadata": {}, 
                    "data": {
                        "text/html": "<div>\n<style scoped>\n    .dataframe tbody tr th:only-of-type {\n        vertical-align: middle;\n    }\n\n    .dataframe tbody tr th {\n        vertical-align: top;\n    }\n\n    .dataframe thead th {\n        text-align: right;\n    }\n</style>\n<table border=\"1\" class=\"dataframe\">\n  <thead>\n    <tr style=\"text-align: right;\">\n      <th></th>\n      <th>PostalCode</th>\n      <th>Borough</th>\n      <th>Neighborhood</th>\n    </tr>\n  </thead>\n  <tbody>\n    <tr>\n      <th>0</th>\n      <td>M1B</td>\n      <td>Scarborough</td>\n      <td>Rouge,Malvern</td>\n    </tr>\n    <tr>\n      <th>1</th>\n      <td>M1C</td>\n      <td>Scarborough</td>\n      <td>Highland Creek,Rouge Hill,Port Union</td>\n    </tr>\n    <tr>\n      <th>2</th>\n      <td>M1E</td>\n      <td>Scarborough</td>\n      <td>Guildwood,Morningside,West Hill</td>\n    </tr>\n    <tr>\n      <th>3</th>\n      <td>M1G</td>\n      <td>Scarborough</td>\n      <td>Woburn</td>\n    </tr>\n    <tr>\n      <th>4</th>\n      <td>M1H</td>\n      <td>Scarborough</td>\n      <td>Cedarbrae</td>\n    </tr>\n  </tbody>\n</table>\n</div>", 
                        "text/plain": "  PostalCode      Borough                          Neighborhood\n0        M1B  Scarborough                         Rouge,Malvern\n1        M1C  Scarborough  Highland Creek,Rouge Hill,Port Union\n2        M1E  Scarborough       Guildwood,Morningside,West Hill\n3        M1G  Scarborough                                Woburn\n4        M1H  Scarborough                             Cedarbrae"
                    }, 
                    "output_type": "execute_result"
                }
            ], 
            "source": "Table=pd.read_csv('capstone_table1.csv')\nTable.head()"
        }, 
        {
            "source": "", 
            "cell_type": "markdown", 
            "metadata": {}
        }, 
        {
            "execution_count": 8, 
            "cell_type": "code", 
            "metadata": {}, 
            "outputs": [
                {
                    "output_type": "stream", 
                    "name": "stdout", 
                    "text": "No. 0 M1B has loaded\nNo. 1 M1C has loaded\nNo. 2 M1E has loaded\nNo. 3 M1G has loaded\nNo. 4 M1H has loaded\nNo. 5 M1J has loaded\nNo. 6 M1K has loaded\nNo. 7 M1L has loaded\nNo. 8 M1M has loaded\nNo. 9 M1N has loaded\nNo. 10 M1P has loaded\nNo. 11 M1R has loaded\nNo. 12 M1S has loaded\nNo. 13 M1T has loaded\nNo. 14 M1V has loaded\nNo. 15 M1W has loaded\nNo. 16 M1X has loaded\nNo. 17 M2H has loaded\nNo. 18 M2J has loaded\nNo. 19 M2K has loaded\nNo. 20 M2L has loaded\nNo. 21 M2M has loaded\nNo. 22 M2N has loaded\nNo. 23 M2P has loaded\nNo. 24 M2R has loaded\nNo. 25 M3A has loaded\nNo. 26 M3B has loaded\nNo. 27 M3C has loaded\nNo. 28 M3H has loaded\nNo. 29 M3J has loaded\nNo. 30 M3K has loaded\nNo. 31 M3L has loaded\nNo. 32 M3M has loaded\nNo. 33 M3N has loaded\nNo. 34 M4A has loaded\nNo. 35 M4B has loaded\nNo. 36 M4C has loaded\nNo. 37 M4E has loaded\nNo. 38 M4G has loaded\nNo. 39 M4H has loaded\nNo. 40 M4J has loaded\nNo. 41 M4K has loaded\nNo. 42 M4L has loaded\nNo. 43 M4M has loaded\nNo. 44 M4N has loaded\nNo. 45 M4P has loaded\nNo. 46 M4R has loaded\nNo. 47 M4S has loaded\nNo. 48 M4T has loaded\nNo. 49 M4V has loaded\nNo. 50 M4W has loaded\nNo. 51 M4X has loaded\nNo. 52 M4Y has loaded\nNo. 53 M5A has loaded\nNo. 54 M5B has loaded\nNo. 55 M5C has loaded\nNo. 56 M5E has loaded\nNo. 57 M5G has loaded\nNo. 58 M5H has loaded\nNo. 59 M5J has loaded\nNo. 60 M5K has loaded\nNo. 61 M5L has loaded\nNo. 62 M5M has loaded\nNo. 63 M5N has loaded\nNo. 64 M5P has loaded\nNo. 65 M5R has loaded\nNo. 66 M5S has loaded\nNo. 67 M5T has loaded\nNo. 68 M5V has loaded\nNo. 69 M5W has loaded\nNo. 70 M5X has loaded\nNo. 71 M6A has loaded\nNo. 72 M6B has loaded\nNo. 73 M6C has loaded\nNo. 74 M6E has loaded\nNo. 75 M6G has loaded\nNo. 76 M6H has loaded\nNo. 77 M6J has loaded\nNo. 78 M6K has loaded\nNo. 79 M6L has loaded\nNo. 80 M6M has loaded\nNo. 81 M6N has loaded\nNo. 82 M6P has loaded\nNo. 83 M6R has loaded\nNo. 84 M6S has loaded\nNo. 85 M7A has loaded\nNo. 86 M7R has loaded\nNo. 87 M7Y has loaded\nNo. 88 M8V has loaded\nNo. 89 M8W has loaded\nNo. 90 M8X has loaded\nNo. 91 M8Y has loaded\nNo. 92 M8Z has loaded\nNo. 93 M9A has loaded\nNo. 94 M9B has loaded\nNo. 95 M9C has loaded\nNo. 96 M9L has loaded\nNo. 97 M9M has loaded\nNo. 98 M9N has loaded\nNo. 99 M9P has loaded\nNo. 100 M9R has loaded\nNo. 101 M9V has loaded\nNo. 102 M9W has loaded\n"
                }, 
                {
                    "execution_count": 8, 
                    "metadata": {}, 
                    "data": {
                        "text/html": "<div>\n<style scoped>\n    .dataframe tbody tr th:only-of-type {\n        vertical-align: middle;\n    }\n\n    .dataframe tbody tr th {\n        vertical-align: top;\n    }\n\n    .dataframe thead th {\n        text-align: right;\n    }\n</style>\n<table border=\"1\" class=\"dataframe\">\n  <thead>\n    <tr style=\"text-align: right;\">\n      <th></th>\n      <th>PostalCode</th>\n      <th>Borough</th>\n      <th>Neighborhood</th>\n      <th>Latitude</th>\n      <th>Longitude</th>\n    </tr>\n  </thead>\n  <tbody>\n    <tr>\n      <th>0</th>\n      <td>M1B</td>\n      <td>Scarborough</td>\n      <td>Rouge,Malvern</td>\n      <td>43.806686</td>\n      <td>-79.194353</td>\n    </tr>\n    <tr>\n      <th>1</th>\n      <td>M1C</td>\n      <td>Scarborough</td>\n      <td>Highland Creek,Rouge Hill,Port Union</td>\n      <td>43.784535</td>\n      <td>-79.160497</td>\n    </tr>\n    <tr>\n      <th>2</th>\n      <td>M1E</td>\n      <td>Scarborough</td>\n      <td>Guildwood,Morningside,West Hill</td>\n      <td>43.763573</td>\n      <td>-79.188711</td>\n    </tr>\n    <tr>\n      <th>3</th>\n      <td>M1G</td>\n      <td>Scarborough</td>\n      <td>Woburn</td>\n      <td>43.770992</td>\n      <td>-79.216917</td>\n    </tr>\n    <tr>\n      <th>4</th>\n      <td>M1H</td>\n      <td>Scarborough</td>\n      <td>Cedarbrae</td>\n      <td>43.773136</td>\n      <td>-79.239476</td>\n    </tr>\n  </tbody>\n</table>\n</div>", 
                        "text/plain": "  PostalCode      Borough                          Neighborhood   Latitude  \\\n0        M1B  Scarborough                         Rouge,Malvern  43.806686   \n1        M1C  Scarborough  Highland Creek,Rouge Hill,Port Union  43.784535   \n2        M1E  Scarborough       Guildwood,Morningside,West Hill  43.763573   \n3        M1G  Scarborough                                Woburn  43.770992   \n4        M1H  Scarborough                             Cedarbrae  43.773136   \n\n   Longitude  \n0 -79.194353  \n1 -79.160497  \n2 -79.188711  \n3 -79.216917  \n4 -79.239476  "
                    }, 
                    "output_type": "execute_result"
                }
            ], 
            "source": "latitude=[]\nlongitude=[]\n\nfor i in range(Table.shape[0]):\n    postal_code=Table.PostalCode[i]\n    \n    # initialize your variable to None\n    lat_lng_coords = None\n    # loop until you get the coordinates\n    # in case if we cannot find it\n    iteration=0\n    while((lat_lng_coords is None) and iteration<=100):\n        g = geocoder.google('{}, Toronto, Ontario'.format(postal_code))\n        lat_lng_coords = g.latlng\n    if iteration<=100:\n        print('No.',i,postal_code,'has loaded')\n    else:\n        print('We cannot find:',postal_code)\n        lat_lng_coords=(np.nan,np.nan)\n    #print('iteration:',iteration)\n    \n    \n    latitude.append(lat_lng_coords[0])\n    longitude.append(lat_lng_coords[1])\nTable['Latitude']=latitude\nTable['Longitude']=longitude\nTable.head()"
        }, 
        {
            "execution_count": 9, 
            "cell_type": "code", 
            "metadata": {}, 
            "outputs": [], 
            "source": "Table.to_csv('capstone_table2.csv')"
        }, 
        {
            "execution_count": null, 
            "cell_type": "code", 
            "metadata": {}, 
            "outputs": [], 
            "source": ""
        }, 
        {
            "execution_count": 13, 
            "cell_type": "code", 
            "metadata": {}, 
            "outputs": [
                {
                    "execution_count": 13, 
                    "metadata": {}, 
                    "data": {
                        "text/html": "<a download=\"capstone_table2.csv\" href=\"data:text/csv;base64,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\" target=\"_blank\">Download CSV file</a>", 
                        "text/plain": "<IPython.core.display.HTML object>"
                    }, 
                    "output_type": "execute_result"
                }
            ], 
            "source": "from IPython.display import HTML\nimport base64 \n\ndef create_download_link( df, title = \"Download CSV file\", filename = \"capstone_table2.csv\"):  \n    csv = df.to_csv()\n    b64 = base64.b64encode(csv.encode())\n    payload = b64.decode()\n    html = '<a download=\"{filename}\" href=\"data:text/csv;base64,{payload}\" target=\"_blank\">{title}</a>'\n    html = html.format(payload=payload,title=title,filename=filename)\n    return HTML(html)\n\ncreate_download_link(Table)"
        }, 
        {
            "execution_count": null, 
            "cell_type": "code", 
            "metadata": {}, 
            "outputs": [], 
            "source": ""
        }
    ], 
    "metadata": {
        "kernelspec": {
            "display_name": "Python 3.5", 
            "name": "python3", 
            "language": "python"
        }, 
        "language_info": {
            "mimetype": "text/x-python", 
            "nbconvert_exporter": "python", 
            "version": "3.5.5", 
            "name": "python", 
            "file_extension": ".py", 
            "pygments_lexer": "ipython3", 
            "codemirror_mode": {
                "version": 3, 
                "name": "ipython"
            }
        }
    }, 
    "nbformat": 4
}